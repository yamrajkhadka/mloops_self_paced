import pandas as pd



df=pd.read_parquet('green_tripdata_2021-01.parquet')



df.lpep_dropoff_datetime=pd.to_datetime(df.lpep_dropoff_datetime)
df.lpep_pickup_datetime=pd.to_datetime(df.lpep_pickup_datetime)


df['duration']=df.lpep_dropoff_datetime-df.lpep_pickup_datetime


td=df.duration.iloc[0]


td.total_seconds()





df= df[df.trip_type ==2]


df




