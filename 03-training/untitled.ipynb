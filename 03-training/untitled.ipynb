{
 "cells": [
  {
   "cell_type": "code",
   "execution_count": 1,
   "metadata": {},
   "outputs": [
    {
     "name": "stderr",
     "output_type": "stream",
     "text": [
      "2025/10/26 09:49:00 INFO mlflow.store.db.utils: Creating initial MLflow database tables...\n",
      "2025/10/26 09:49:00 INFO mlflow.store.db.utils: Updating database tables\n",
      "INFO  [alembic.runtime.migration] Context impl SQLiteImpl.\n",
      "INFO  [alembic.runtime.migration] Will assume non-transactional DDL.\n",
      "INFO  [alembic.runtime.migration] Context impl SQLiteImpl.\n",
      "INFO  [alembic.runtime.migration] Will assume non-transactional DDL.\n"
     ]
    }
   ],
   "source": [
    "from mlflow.tracking import MlflowClient\n",
    "\n",
    "MLFLOW_TRACKING_URL = \"sqlite:///mlflow.db\"\n",
    "client = MlflowClient(tracking_uri=MLFLOW_TRACKING_URL)\n"
   ]
  },
  {
   "cell_type": "code",
   "execution_count": 2,
   "id": "fec36e1d",
   "metadata": {},
   "outputs": [
    {
     "data": {
      "text/plain": [
       "[<Experiment: artifact_location='/home/yamraj/Projects/mloops_projects/mloops_self_paced/03-training/mlruns/2', creation_time=1761400939349, experiment_id='2', last_update_time=1761400939349, lifecycle_stage='active', name='my-cool-experiment', tags={}>,\n",
       " <Experiment: artifact_location='/home/yamraj/Projects/mloops_projects/mloops_self_paced/03-training/mlruns/1', creation_time=1760720322046, experiment_id='1', last_update_time=1760720322046, lifecycle_stage='active', name='nyc-taxi-experiment', tags={}>,\n",
       " <Experiment: artifact_location='mlflow-artifacts:/0', creation_time=1760706299829, experiment_id='0', last_update_time=1760706299829, lifecycle_stage='active', name='Default', tags={}>]"
      ]
     },
     "execution_count": 2,
     "metadata": {},
     "output_type": "execute_result"
    }
   ],
   "source": [
    "client.search_experiments()\n"
   ]
  },
  {
   "cell_type": "code",
   "execution_count": null,
   "id": "fc41473b",
   "metadata": {},
   "outputs": [],
   "source": []
  },
  {
   "cell_type": "code",
   "execution_count": 4,
   "id": "d43db136",
   "metadata": {},
   "outputs": [],
   "source": [
    "from mlflow.entities import ViewType\n",
    "runs=client.search_runs(\n",
    "    experiment_ids='1',\n",
    "    filter_string=\"metrics.rmse < 40\",\n",
    "    run_view_type=ViewType.ACTIVE_ONLY,\n",
    "    max_results=5,\n",
    "    order_by=[\"metrics.rmse ASC\"]\n",
    ")"
   ]
  },
  {
   "cell_type": "code",
   "execution_count": 5,
   "id": "8115846d",
   "metadata": {},
   "outputs": [
    {
     "name": "stdout",
     "output_type": "stream",
     "text": [
      "run id: b780dc4b47244c52a3f41663d7b21498 | rmse: 39.7519   \n",
      "run id: 071d9caa9dea4ea9bebbcb0339237478 | rmse: 39.7551   \n",
      "run id: 7e2ad81587734fc1b25eb14b5a951d4f | rmse: 39.7551   \n",
      "run id: 4a91ff00e6a74b72b85ea9cff8dc354b | rmse: 39.7551   \n",
      "run id: a3418a68a5964c58a6f0c92726d12eb2 | rmse: 39.7748   \n"
     ]
    }
   ],
   "source": [
    "for run in runs:\n",
    "    print (f\"run id: {run.info.run_id} | rmse: {run.data.metrics['rmse']:.4f}   \")"
   ]
  },
  {
   "cell_type": "code",
   "execution_count": null,
   "id": "bb818e6b",
   "metadata": {},
   "outputs": [],
   "source": []
  },
  {
   "cell_type": "code",
   "execution_count": 6,
   "id": "10453e60",
   "metadata": {},
   "outputs": [],
   "source": [
    "import mlflow\n",
    "mlflow.set_tracking_uri(MLFLOW_TRACKING_URL)\n"
   ]
  },
  {
   "cell_type": "code",
   "execution_count": 7,
   "id": "436c3bc5",
   "metadata": {},
   "outputs": [
    {
     "name": "stderr",
     "output_type": "stream",
     "text": [
      "2025/10/26 09:50:18 INFO mlflow.store.db.utils: Creating initial MLflow database tables...\n",
      "2025/10/26 09:50:18 INFO mlflow.store.db.utils: Updating database tables\n"
     ]
    },
    {
     "name": "stderr",
     "output_type": "stream",
     "text": [
      "INFO  [alembic.runtime.migration] Context impl SQLiteImpl.\n",
      "INFO  [alembic.runtime.migration] Will assume non-transactional DDL.\n",
      "Registered model 'nyc-taxi-experiment' already exists. Creating a new version of this model...\n",
      "2025/10/26 09:50:19 WARNING mlflow.tracking._model_registry.fluent: Run with id b780dc4b47244c52a3f41663d7b21498 has no artifacts at artifact path 'models_mlflow', registering model based on models:/m-71d20996b83c4763b17924c3971825bb instead\n",
      "Created version '2' of model 'nyc-taxi-experiment'.\n"
     ]
    },
    {
     "data": {
      "text/plain": [
       "<ModelVersion: aliases=[], creation_timestamp=1761451519151, current_stage='None', deployment_job_state=None, description=None, last_updated_timestamp=1761451519151, metrics=None, model_id=None, name='nyc-taxi-experiment', params=None, run_id='b780dc4b47244c52a3f41663d7b21498', run_link=None, source='models:/m-71d20996b83c4763b17924c3971825bb', status='READY', status_message=None, tags={}, user_id=None, version=2>"
      ]
     },
     "execution_count": 7,
     "metadata": {},
     "output_type": "execute_result"
    }
   ],
   "source": [
    "import mlflow\n",
    "\n",
    "run_id = \"b780dc4b47244c52a3f41663d7b21498\"  # removed trailing space\n",
    "model_uri = f\"runs:/{run_id}/models_mlflow\"  # correct artifact path\n",
    "\n",
    "mlflow.register_model(model_uri=model_uri, name=\"nyc-taxi-experiment\")\n"
   ]
  },
  {
   "cell_type": "code",
   "execution_count": 8,
   "id": "9dbd6397",
   "metadata": {},
   "outputs": [
    {
     "data": {
      "text/plain": [
       "'runs:/b780dc4b47244c52a3f41663d7b21498/models_mlflow'"
      ]
     },
     "execution_count": 8,
     "metadata": {},
     "output_type": "execute_result"
    }
   ],
   "source": [
    "model_uri"
   ]
  },
  {
   "cell_type": "markdown",
   "id": "10c65707",
   "metadata": {},
   "source": [
    "registered_models = client.search_registered_models()\n",
    "print(registered_models)\n"
   ]
  },
  {
   "cell_type": "code",
   "execution_count": 9,
   "id": "ab59b3c9",
   "metadata": {},
   "outputs": [
    {
     "name": "stdout",
     "output_type": "stream",
     "text": [
      "[<RegisteredModel: aliases={}, creation_timestamp=1761405083082, deployment_job_id=None, deployment_job_state=None, description=None, last_updated_timestamp=1761451519151, latest_versions=[<ModelVersion: aliases=[], creation_timestamp=1761451519151, current_stage='None', deployment_job_state=None, description=None, last_updated_timestamp=1761451519151, metrics=None, model_id=None, name='nyc-taxi-experiment', params=None, run_id='b780dc4b47244c52a3f41663d7b21498', run_link=None, source='models:/m-71d20996b83c4763b17924c3971825bb', status='READY', status_message=None, tags={}, user_id=None, version=2>], name='nyc-taxi-experiment', tags={}>, <RegisteredModel: aliases={}, creation_timestamp=1761404985520, deployment_job_id=None, deployment_job_state=None, description=None, last_updated_timestamp=1761404985520, latest_versions=[], name='nyc-taxi-experiment ', tags={}>, <RegisteredModel: aliases={'model_urimodelsnyc-taxi-experimentmodelsproduction': 1}, creation_timestamp=1761390071642, deployment_job_id=None, deployment_job_state=None, description='the nyc -taxi duration prediction', last_updated_timestamp=1761390262442, latest_versions=[<ModelVersion: aliases=[], creation_timestamp=1761390153456, current_stage='None', deployment_job_state=None, description='', last_updated_timestamp=1761390153456, metrics=None, model_id=None, name='yamraj_model', params=None, run_id='', run_link='', source='/home/yamraj/Projects/mloops_projects/mloops_self_paced/03-training/mlruns/1/models/m-71d20996b83c4763b17924c3971825bb/artifacts', status='READY', status_message=None, tags={}, user_id=None, version=3>], name='yamraj_model', tags={}>]\n"
     ]
    }
   ],
   "source": [
    "registered_models = client.search_registered_models()\n",
    "print(registered_models)\n"
   ]
  },
  {
   "cell_type": "code",
   "execution_count": 10,
   "id": "56225610",
   "metadata": {},
   "outputs": [
    {
     "name": "stdout",
     "output_type": "stream",
     "text": [
      "version: 2,stage: None\n"
     ]
    },
    {
     "name": "stderr",
     "output_type": "stream",
     "text": [
      "/tmp/ipykernel_5244/2065705576.py:2: FutureWarning: ``mlflow.tracking.client.MlflowClient.get_latest_versions`` is deprecated since 2.9.0. Model registry stages will be removed in a future major release. To learn more about the deprecation of model registry stages, see our migration guide here: https://mlflow.org/docs/latest/model-registry.html#migrating-from-stages\n",
      "  latest_versions=client.get_latest_versions(name=model_name)\n"
     ]
    }
   ],
   "source": [
    "\n",
    "model_name = \"nyc-taxi-experiment\"\n",
    "latest_versions=client.get_latest_versions(name=model_name)\n",
    "for version in latest_versions:\n",
    "    print(f\"version: {version.version},stage: {version.current_stage}\")    "
   ]
  },
  {
   "cell_type": "code",
   "execution_count": 20,
   "id": "af06ad75",
   "metadata": {},
   "outputs": [
    {
     "name": "stderr",
     "output_type": "stream",
     "text": [
      "/tmp/ipykernel_5244/421308582.py:3: FutureWarning: ``mlflow.tracking.client.MlflowClient.transition_model_version_stage`` is deprecated since 2.9.0. Model registry stages will be removed in a future major release. To learn more about the deprecation of model registry stages, see our migration guide here: https://mlflow.org/docs/latest/model-registry.html#migrating-from-stages\n",
      "  client.transition_model_version_stage(\n"
     ]
    },
    {
     "data": {
      "text/plain": [
       "<ModelVersion: aliases=[], creation_timestamp=1761405542348, current_stage='Staging', deployment_job_state=None, description='the model version1 was transtitioned to Staging on 2025-10-26 10:07:09.867095', last_updated_timestamp=1761452646390, metrics=None, model_id=None, name='nyc-taxi-experiment', params=None, run_id='b780dc4b47244c52a3f41663d7b21498', run_link=None, source='models:/m-71d20996b83c4763b17924c3971825bb', status='READY', status_message=None, tags={}, user_id=None, version=1>"
      ]
     },
     "execution_count": 20,
     "metadata": {},
     "output_type": "execute_result"
    }
   ],
   "source": [
    "model_version=1\n",
    "new_stage=\"Staging\"\n",
    "client.transition_model_version_stage(\n",
    "    name=model_name,\n",
    "    version=model_version,\n",
    "    stage=new_stage,\n",
    "    archive_existing_versions=False\n",
    ")"
   ]
  },
  {
   "cell_type": "code",
   "execution_count": 21,
   "id": "76a95bf5",
   "metadata": {},
   "outputs": [
    {
     "data": {
      "text/plain": [
       "<ModelVersion: aliases=[], creation_timestamp=1761405542348, current_stage='Staging', deployment_job_state=None, description='the model version1 was transtitioned to Staging on 2025-10-26 10:09:08.427785', last_updated_timestamp=1761452648442, metrics=None, model_id=None, name='nyc-taxi-experiment', params=None, run_id='b780dc4b47244c52a3f41663d7b21498', run_link=None, source='models:/m-71d20996b83c4763b17924c3971825bb', status='READY', status_message=None, tags={}, user_id=None, version=1>"
      ]
     },
     "execution_count": 21,
     "metadata": {},
     "output_type": "execute_result"
    }
   ],
   "source": [
    "from datetime import datetime\n",
    "date=datetime.today()\n",
    "\n",
    "\n",
    "client.update_model_version(\n",
    "    name=model_name,\n",
    "    version=model_version,\n",
    "    description=f\"the model version{model_version} was transtitioned to {new_stage} on {date}\"\n",
    "\n",
    ")"
   ]
  },
  {
   "cell_type": "code",
   "execution_count": 23,
   "id": "8e459398",
   "metadata": {},
   "outputs": [],
   "source": [
    "from sklearn.metrics import mean_squared_error\n",
    "\n",
    "def read_dataframe(filename):\n",
    "    import pandas as pd\n",
    "    df = pd.read_parquet(filename)\n",
    "    df.lpep_dropoff_datetime = pd.to_datetime(df.lpep_dropoff_datetime)\n",
    "    df.lpep_pickup_datetime = pd.to_datetime(df.lpep_pickup_datetime)\n",
    "\n",
    "    df[\"duration\"] = df.lpep_dropoff_datetime - df.lpep_pickup_datetime\n",
    "    df.duration = df.duration.apply(lambda td: td.total_seconds() / 60)\n",
    "\n",
    "    df = df[(df.duration >= 1) & (df.duration <= 60)]\n",
    "    categorical = [\"PULocationID\", \"DOLocationID\"]\n",
    "    df[categorical] = df[categorical].astype(str)\n",
    "    return df   \n",
    "def preprocess(df,dv):\n",
    "    df['PU_DO']=df['PULocationID']+'_'+df['DOLocationID']\n",
    "    categorical = ['PU_DO'] \n",
    "    numerical = ['trip_distance']   \n",
    "    train_dicts = df[categorical + numerical].to_dict(orient='records')\n",
    "    return dv.transform(train_dicts)\n",
    "\n",
    "def test_model(stage,X_test,y_test):\n",
    "    model=mlflow.pyfunc.load_model(f\"models:/{name}/{stage}\")\n",
    "    y_pred=model.predict(X_test)\n",
    "    return {\"rmse\": mean_squared_error(y_test,y_pred,squared=False )}\n",
    "\n",
    "\n",
    "    \n",
    "    "
   ]
  },
  {
   "cell_type": "code",
   "execution_count": 28,
   "id": "a268294f",
   "metadata": {},
   "outputs": [],
   "source": [
    "df=read_dataframe('green_tripdata_2021-03.parquet')"
   ]
  },
  {
   "cell_type": "code",
   "execution_count": 29,
   "id": "83f56a73",
   "metadata": {},
   "outputs": [
    {
     "data": {
      "application/vnd.jupyter.widget-view+json": {
       "model_id": "27da87bf0a87451facf0ff6f6bd8ac6e",
       "version_major": 2,
       "version_minor": 0
      },
      "text/plain": [
       "Downloading artifacts:   0%|          | 0/1 [00:00<?, ?it/s]"
      ]
     },
     "metadata": {},
     "output_type": "display_data"
    },
    {
     "data": {
      "text/plain": [
       "'/home/yamraj/Projects/mloops_projects/mloops_self_paced/03-training/preprocessor'"
      ]
     },
     "execution_count": 29,
     "metadata": {},
     "output_type": "execute_result"
    }
   ],
   "source": [
    "client.download_artifacts(run_id=run_id,path='preprocessor',dst_path='.')"
   ]
  },
  {
   "cell_type": "code",
   "execution_count": 31,
   "id": "bcc20ed9",
   "metadata": {},
   "outputs": [],
   "source": [
    "import pickle\n",
    "with open('preprocessor/preprocessor.b','rb') as f_in:\n",
    "    dv=pickle.load(f_in)    "
   ]
  },
  {
   "cell_type": "code",
   "execution_count": 32,
   "id": "4813bddc",
   "metadata": {},
   "outputs": [],
   "source": [
    "X_test=preprocess(df,dv)"
   ]
  },
  {
   "cell_type": "code",
   "execution_count": 33,
   "id": "1bdb48b3",
   "metadata": {},
   "outputs": [],
   "source": [
    "target = 'duration'\n",
    "y_test = df[target].values"
   ]
  },
  {
   "cell_type": "code",
   "execution_count": null,
   "id": "2a5c5d0c",
   "metadata": {},
   "outputs": [],
   "source": []
  },
  {
   "cell_type": "code",
   "execution_count": 46,
   "id": "8ac48347",
   "metadata": {},
   "outputs": [
    {
     "name": "stdout",
     "output_type": "stream",
     "text": [
      "(stage, X_test, y_test)\n"
     ]
    }
   ],
   "source": [
    "import inspect\n",
    "print(inspect.signature(test_model))\n"
   ]
  },
  {
   "cell_type": "code",
   "execution_count": 50,
   "id": "16cce737",
   "metadata": {},
   "outputs": [],
   "source": [
    "def test_model(name, stage, X_test, y_test):\n",
    "    model = mlflow.pyfunc.load_model(f\"models:/{name}/{stage}\")\n",
    "    y_pred = model.predict(X_test)\n",
    "    return {\"rmse\": mean_squared_error(y_test, y_pred)}\n"
   ]
  },
  {
   "cell_type": "code",
   "execution_count": 52,
   "id": "e0df4603",
   "metadata": {},
   "outputs": [
    {
     "name": "stdout",
     "output_type": "stream",
     "text": [
      "nyc-taxi-experiment\n",
      "nyc-taxi-experiment \n",
      "yamraj_model\n"
     ]
    }
   ],
   "source": [
    "from mlflow import MlflowClient\n",
    "\n",
    "client = MlflowClient()\n",
    "for rm in client.search_registered_models():\n",
    "    print(rm.name)\n"
   ]
  },
  {
   "cell_type": "code",
   "execution_count": 53,
   "id": "b134857c",
   "metadata": {},
   "outputs": [
    {
     "name": "stdout",
     "output_type": "stream",
     "text": [
      "\n",
      "Model: nyc-taxi-experiment\n",
      "  Version: 1, Stage: Staging, Run ID: b780dc4b47244c52a3f41663d7b21498\n",
      "  Version: 2, Stage: None, Run ID: b780dc4b47244c52a3f41663d7b21498\n",
      "\n",
      "Model: yamraj_model\n",
      "  Version: 3, Stage: None, Run ID: \n",
      "  Version: 2, Stage: None, Run ID: \n",
      "  Version: 1, Stage: None, Run ID: \n"
     ]
    }
   ],
   "source": [
    "from mlflow import MlflowClient\n",
    "\n",
    "client = MlflowClient()\n",
    "\n",
    "for name in [\"nyc-taxi-experiment\", \"yamraj_model\"]:\n",
    "    print(f\"\\nModel: {name}\")\n",
    "    versions = client.search_model_versions(f\"name='{name}'\")\n",
    "    for v in versions:\n",
    "        print(f\"  Version: {v.version}, Stage: {v.current_stage}, Run ID: {v.run_id}\")\n"
   ]
  },
  {
   "cell_type": "code",
   "execution_count": 54,
   "id": "9f1538d5",
   "metadata": {},
   "outputs": [
    {
     "name": "stderr",
     "output_type": "stream",
     "text": [
      "/tmp/ipykernel_5244/1119790774.py:6: FutureWarning: ``mlflow.tracking.client.MlflowClient.transition_model_version_stage`` is deprecated since 2.9.0. Model registry stages will be removed in a future major release. To learn more about the deprecation of model registry stages, see our migration guide here: https://mlflow.org/docs/latest/model-registry.html#migrating-from-stages\n",
      "  client.transition_model_version_stage(\n"
     ]
    },
    {
     "data": {
      "text/plain": [
       "<ModelVersion: aliases=[], creation_timestamp=1761405542348, current_stage='Production', deployment_job_state=None, description='the model version1 was transtitioned to Staging on 2025-10-26 10:09:08.427785', last_updated_timestamp=1761463005783, metrics=None, model_id=None, name='nyc-taxi-experiment', params=None, run_id='b780dc4b47244c52a3f41663d7b21498', run_link=None, source='models:/m-71d20996b83c4763b17924c3971825bb', status='READY', status_message=None, tags={}, user_id=None, version=1>"
      ]
     },
     "execution_count": 54,
     "metadata": {},
     "output_type": "execute_result"
    }
   ],
   "source": [
    "from mlflow import MlflowClient\n",
    "\n",
    "client = MlflowClient()\n",
    "\n",
    "# Promote version 1 to Production\n",
    "client.transition_model_version_stage(\n",
    "    name=\"nyc-taxi-experiment\",\n",
    "    version=1,\n",
    "    stage=\"Production\",\n",
    "    archive_existing_versions=False\n",
    ")\n"
   ]
  },
  {
   "cell_type": "code",
   "execution_count": 55,
   "id": "0599fc68",
   "metadata": {},
   "outputs": [
    {
     "name": "stdout",
     "output_type": "stream",
     "text": [
      "CPU times: user 1min 8s, sys: 526 ms, total: 1min 9s\n",
      "Wall time: 22.9 s\n"
     ]
    },
    {
     "data": {
      "text/plain": [
       "{'rmse': 39.164489406755855}"
      ]
     },
     "execution_count": 55,
     "metadata": {},
     "output_type": "execute_result"
    }
   ],
   "source": [
    "%time test_model(\"nyc-taxi-experiment\", \"Production\", X_test, y_test)\n"
   ]
  },
  {
   "cell_type": "code",
   "execution_count": 57,
   "id": "063e2193",
   "metadata": {},
   "outputs": [
    {
     "name": "stderr",
     "output_type": "stream",
     "text": [
      "/tmp/ipykernel_5244/2761509898.py:1: FutureWarning: ``mlflow.tracking.client.MlflowClient.transition_model_version_stage`` is deprecated since 2.9.0. Model registry stages will be removed in a future major release. To learn more about the deprecation of model registry stages, see our migration guide here: https://mlflow.org/docs/latest/model-registry.html#migrating-from-stages\n",
      "  client.transition_model_version_stage(\n"
     ]
    },
    {
     "data": {
      "text/plain": [
       "<ModelVersion: aliases=[], creation_timestamp=1761405542348, current_stage='Production', deployment_job_state=None, description='the model version1 was transtitioned to Staging on 2025-10-26 10:09:08.427785', last_updated_timestamp=1761463377937, metrics=None, model_id=None, name='nyc-taxi-experiment', params=None, run_id='b780dc4b47244c52a3f41663d7b21498', run_link=None, source='models:/m-71d20996b83c4763b17924c3971825bb', status='READY', status_message=None, tags={}, user_id=None, version=1>"
      ]
     },
     "execution_count": 57,
     "metadata": {},
     "output_type": "execute_result"
    }
   ],
   "source": [
    "client.transition_model_version_stage(\n",
    "    name=model_name,\n",
    "    version=1,\n",
    "    stage=\"Production\",\n",
    "    archive_existing_versions=True\n",
    ")\n",
    "\n"
   ]
  },
  {
   "cell_type": "code",
   "execution_count": null,
   "id": "9e0439e6",
   "metadata": {},
   "outputs": [],
   "source": []
  },
  {
   "cell_type": "code",
   "execution_count": null,
   "id": "cf036263",
   "metadata": {},
   "outputs": [],
   "source": []
  },
  {
   "cell_type": "code",
   "execution_count": null,
   "id": "e473491f",
   "metadata": {},
   "outputs": [],
   "source": []
  }
 ],
 "metadata": {
  "kernelspec": {
   "display_name": "venv",
   "language": "python",
   "name": "python3"
  },
  "language_info": {
   "codemirror_mode": {
    "name": "ipython",
    "version": 3
   },
   "file_extension": ".py",
   "mimetype": "text/x-python",
   "name": "python",
   "nbconvert_exporter": "python",
   "pygments_lexer": "ipython3",
   "version": "3.9.12"
  }
 },
 "nbformat": 4,
 "nbformat_minor": 5
}
