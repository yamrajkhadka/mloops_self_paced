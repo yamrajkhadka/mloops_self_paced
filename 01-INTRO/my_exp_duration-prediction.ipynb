{
 "cells": [
  {
   "cell_type": "code",
   "execution_count": 1,
   "id": "0d5a5f14-8082-49cc-8d77-02b689381221",
   "metadata": {},
   "outputs": [],
   "source": [
    "import pandas as pd\n"
   ]
  },
  {
   "cell_type": "code",
   "execution_count": 2,
   "id": "f8859e9e-a535-4748-9bba-55d81a6c488f",
   "metadata": {},
   "outputs": [],
   "source": [
    "import seaborn as sns \n",
    "import matplotlib.pyplot as plt"
   ]
  },
  {
   "cell_type": "code",
   "execution_count": 3,
   "id": "af48222d-46d9-43c2-be04-18ef6b85539b",
   "metadata": {},
   "outputs": [],
   "source": [
    "from sklearn.feature_extraction import DictVectorizer\n",
    "from sklearn.linear_model import LinearRegression\n",
    "from sklearn.linear_model import Lasso\n",
    "\n",
    "from sklearn.metrics import mean_squared_error"
   ]
  },
  {
   "cell_type": "code",
   "execution_count": 4,
   "id": "e1996327-72fd-488e-b9dd-c37294508411",
   "metadata": {},
   "outputs": [],
   "source": [
    "df=pd.read_parquet('green_tripdata_2021-01.parquet')\n",
    "df.lpep_dropoff_datetime=pd.to_datetime(df.lpep_dropoff_datetime)\n",
    "df.lpep_pickup_datetime=pd.to_datetime(df.lpep_pickup_datetime)\n",
    "df['duration']=df.lpep_dropoff_datetime-df.lpep_pickup_datetime\n",
    "df.duration=df.duration.apply(lambda td:td.total_seconds()/60)\n",
    "df =df[(df.duration >=1) & (df.duration <=60)]\n",
    "categorical= ['PULocationID', 'DOLocationID']\n",
    "numerical=['trip_distance']\n",
    "df[categorical]=df[categorical].astype(str)\n",
    "\n"
   ]
  },
  {
   "cell_type": "code",
   "execution_count": 5,
   "id": "366f1b6d-ec28-4236-bc86-420611031421",
   "metadata": {},
   "outputs": [],
   "source": [
    "td=df.duration.iloc[0]"
   ]
  },
  {
   "cell_type": "code",
   "execution_count": 6,
   "id": "1904d1d9-79a2-4c87-afd6-972ada8003a8",
   "metadata": {},
   "outputs": [
    {
     "ename": "AttributeError",
     "evalue": "'numpy.float64' object has no attribute 'total_seconds'",
     "output_type": "error",
     "traceback": [
      "\u001b[0;31m---------------------------------------------------------------------------\u001b[0m",
      "\u001b[0;31mAttributeError\u001b[0m                            Traceback (most recent call last)",
      "Cell \u001b[0;32mIn[6], line 1\u001b[0m\n\u001b[0;32m----> 1\u001b[0m \u001b[43mtd\u001b[49m\u001b[38;5;241;43m.\u001b[39;49m\u001b[43mtotal_seconds\u001b[49m()\u001b[38;5;241m/\u001b[39m\u001b[38;5;241m60\u001b[39m\n",
      "\u001b[0;31mAttributeError\u001b[0m: 'numpy.float64' object has no attribute 'total_seconds'"
     ]
    }
   ],
   "source": [
    "td.total_seconds()/60"
   ]
  },
  {
   "cell_type": "code",
   "execution_count": null,
   "id": "2c1c01ab-89f6-4d97-a2df-4247949d5c1e",
   "metadata": {},
   "outputs": [],
   "source": [
    "df= df[df.trip_type ==2]"
   ]
  },
  {
   "cell_type": "code",
   "execution_count": null,
   "id": "2fd74210-fa58-4969-bc25-9297b6f74f9c",
   "metadata": {},
   "outputs": [],
   "source": [
    "df"
   ]
  },
  {
   "cell_type": "code",
   "execution_count": null,
   "id": "5a328c86-24ff-453b-b18f-2ed0735054d6",
   "metadata": {},
   "outputs": [],
   "source": [
    "train_dicts=df[categorical + numerical].to_dict(orient='records')\n",
    "dv=DictVectorizer()\n",
    "X_train=dv.fit_transform(train_dicts)\n",
    "target='duration'\n",
    "y_train=df[target].values\n",
    "lr= LinearRegression()\n",
    "lr.fit(X_train,y_train)\n",
    "y_pred=lr.predict(X_train)\n",
    "mean_squared_error(y_train,y_pred) # got rme =4.8 much better than tutorial "
   ]
  },
  {
   "cell_type": "code",
   "execution_count": null,
   "id": "c8ea1c25-98aa-4468-86a8-aab6dfa2aab5",
   "metadata": {},
   "outputs": [],
   "source": []
  },
  {
   "cell_type": "code",
   "execution_count": null,
   "id": "1eb80e64-8a60-4533-a9a4-e700a6c527ca",
   "metadata": {},
   "outputs": [],
   "source": []
  },
  {
   "cell_type": "code",
   "execution_count": null,
   "id": "9b8aeae0-d29d-45dd-b2f3-90a8ae9cab5d",
   "metadata": {},
   "outputs": [],
   "source": [
    "sns.distplot(y_pred, label='prediction')\n",
    "sns.distplot(y_train,label='actual')\n",
    "plt.legend()"
   ]
  },
  {
   "cell_type": "code",
   "execution_count": null,
   "id": "167f431a-4809-4101-9921-6ba652c6858a",
   "metadata": {},
   "outputs": [],
   "source": [
    "def read_dataframe(filename):\n",
    "    \n",
    "    df = pd.read_parquet(filename)\n",
    "    df.lpep_dropoff_datetime=pd.to_datetime(df.lpep_dropoff_datetime)\n",
    "    df.lpep_pickup_datetime=pd.to_datetime(df.lpep_pickup_datetime)\n",
    "    df['duration']=df.lpep_dropoff_datetime-df.lpep_pickup_datetime\n",
    "    df.duration=df.duration.apply(lambda td:td.total_seconds()/60)\n",
    "    df =df[(df.duration >=1) & (df.duration <=60)]\n",
    "    categorical= ['PULocationID', 'DOLocationID']\n",
    "    numerical=['trip_distance']\n",
    "    df[categorical]=df[categorical].astype(str)\n",
    "    return df\n",
    "    "
   ]
  },
  {
   "cell_type": "code",
   "execution_count": null,
   "id": "7e3c93ec-5416-466b-968e-d2ce2454d923",
   "metadata": {},
   "outputs": [],
   "source": [
    "df_train = read_dataframe('green_tripdata_2021-01.parquet')\n",
    "df_val = read_dataframe('green_tripdata_2021-02.parquet')"
   ]
  },
  {
   "cell_type": "code",
   "execution_count": null,
   "id": "3a38b0d8-cac3-4b53-b872-ff493c9830c6",
   "metadata": {},
   "outputs": [],
   "source": [
    "len(df_train),len(df_val)"
   ]
  },
  {
   "cell_type": "code",
   "execution_count": null,
   "id": "04d58019-a665-4b3f-a6b7-406ddb6c698a",
   "metadata": {},
   "outputs": [],
   "source": [
    "categorical= ['PULocationID', 'DOLocationID']\n",
    "numerical=['trip_distance']\n",
    "dv=DictVectorizer()\n",
    "train_dicts=df[categorical + numerical].to_dict(orient='records')\n",
    "X_train=dv.fit_transform(train_dicts)\n",
    "val_dicts=df_val[categorical + numerical].to_dict(orient='records')\n",
    "x_val=dv.transform(val_dicts)"
   ]
  },
  {
   "cell_type": "code",
   "execution_count": null,
   "id": "90d1379d-c771-4edd-b975-5aff54126ed0",
   "metadata": {},
   "outputs": [],
   "source": []
  }
 ],
 "metadata": {
  "kernelspec": {
   "display_name": "Python 3 (ipykernel)",
   "language": "python",
   "name": "python3"
  },
  "language_info": {
   "codemirror_mode": {
    "name": "ipython",
    "version": 3
   },
   "file_extension": ".py",
   "mimetype": "text/x-python",
   "name": "python",
   "nbconvert_exporter": "python",
   "pygments_lexer": "ipython3",
   "version": "3.9.12"
  }
 },
 "nbformat": 4,
 "nbformat_minor": 5
}
